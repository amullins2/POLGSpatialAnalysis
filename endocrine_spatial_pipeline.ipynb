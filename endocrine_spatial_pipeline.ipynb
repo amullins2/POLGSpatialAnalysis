# 🔧 Setup paths
import os
from MicroarrayProcessor import run as micro_run
import json, subprocess
import scanpy as sc

# === Paths (EDIT THESE) ===
project_dir = "/your/project/path"
fastq_dir = os.path.join(project_dir, "fastq")
image_dir = os.path.join(project_dir, "images")
micro_out = os.path.join(project_dir, "outputs", "microarray")
space_out = os.path.join(project_dir, "outputs", "spaceranger")
ref_path = os.path.join(project_dir, "reference", "refdata-gex-mm10-2020-A")

tmas = ["TMA1_HE", "TMA2_HE", "TMA3_HE", "TMA4_HE"]

os.makedirs(micro_out, exist_ok=True)
os.makedirs(space_out, exist_ok=True)


def run_microarray(tma_name):
    image_path = os.path.join(image_dir, f"{tma_name}.jpg")
    json_path = os.path.join(micro_out, f"{tma_name}.json")
    if not os.path.exists(json_path):
        try:
            micro_run.main(image_path, micro_out, tma_name, 4, 4, 0)
        except Exception as e:
            print(f"Error running MicroarrayProcessor for {tma_name}: {e}")
    else:
        print(f"✅ MicroarrayProcessor already run for {tma_name}")

for tma in tmas:
    run_microarray(tma)


def run_spaceranger(tma_name):
    sample_id = tma_name.replace("_HE", "")
    out_path = os.path.join(space_out, sample_id)
    if os.path.exists(os.path.join(out_path, "outs")):
        print(f"✅ {sample_id} already processed.")
        return

    image_path = os.path.join(image_dir, f"{tma_name}.jpg")
    json_path = os.path.join(micro_out, f"{tma_name}.json")
    cmd = f"""
    spaceranger count \\
      --id={sample_id} \\
      --transcriptome={ref_path} \\
      --fastqs={fastq_dir} \\
      --sample={sample_id} \\
      --image={image_path} \\
      --loupe-alignment={json_path} \\
      --slide=UNUSED \\
      --area=A1 \\
      --localcores=16 \\
      --localmem=64
    """
    try:
        subprocess.run(cmd, shell=True, cwd=space_out, check=True)
    except subprocess.CalledProcessError as e:
        print(f"Error running spaceranger for {sample_id}: {e}")

for tma in tmas:
    run_spaceranger(tma)


def list_cores(json_path):
    if not os.path.exists(json_path):
        print(f"❌ JSON file {json_path} does not exist.")
        return
    
    with open(json_path, 'r') as f:
        data = json.load(f)
    print(f"Cores in {os.path.basename(json_path)}:")
    for feature in data['features']:
        print(f"  - {feature['properties']['name']}")

for tma in tmas:
    list_cores(os.path.join(micro_out, f"{tma}.json"))


sample_id = "TMA1"
adata_path = os.path.join(space_out, sample_id, "outs", "filtered_feature_bc_matrix.h5")
if os.path.exists(adata_path):
    adata = sc.read_10x_h5(adata_path)
    adata.var_names_make_unique()
    endocrine_genes = ["Ins1", "Ins2", "Gcg", "Sst", "Ppy"]
    found_genes = [gene for gene in endocrine_genes if gene in adata.var_names]
    sc.pl.violin(adata, keys=found_genes, rotation=90, stripplot=False)

    spatial_adata = sc.read_visium(os.path.join(space_out, sample_id, "outs"))
    sc.pl.spatial(spatial_adata, color=found_genes, cmap="magma", size=1.3)

    # Run dimensionality reduction
    sc.pp.normalize_total(adata, target_sum=1e4)
    sc.pp.log1p(adata)
    sc.pp.highly_variable_genes(adata, flavor="seurat", n_top_genes=2000)
    adata = adata[:, adata.var.highly_variable]
    sc.pp.scale(adata)
    sc.tl.pca(adata, svd_solver='arpack')
    sc.pl.pca(adata, color=found_genes)

    sc.pp.neighbors(adata)
    sc.tl.umap(adata)
    sc.pl.umap(adata, color=found_genes)
else:
    print(f"❌ The file {adata_path} does not exist.")

