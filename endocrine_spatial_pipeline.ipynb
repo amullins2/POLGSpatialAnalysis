
{
 "cells": [
  {
   "cell_type": "markdown",
   "metadata": {},
   "source": [
    "# 🧬 Endocrine Spatial Transcriptomics Pipeline\n",
    "This notebook processes Visium HD mouse pancreas TMAs, extracts endocrine marker expression, and performs dimensionality reduction (PCA/UMAP)."
   ]
  },
  {
   "cell_type": "code",
   "execution_count": null,
   "metadata": {},
   "outputs": [],
   "source": [
    "# 🔧 Setup paths\n",
    "import os\n",
    "from MicroarrayProcessor import run as micro_run\n",
    "import json, subprocess\n",
    "import scanpy as sc\n",
    "\n",
    "# === Paths (EDIT THESE) ===\n",
    "project_dir = "/your/project/path"\n",
    "fastq_dir = os.path.join(project_dir, "fastq")\n",
    "image_dir = os.path.join(project_dir, "images")\n",
    "micro_out = os.path.join(project_dir, "outputs", "microarray")\n",
    "space_out = os.path.join(project_dir, "outputs", "spaceranger")\n",
    "ref_path = os.path.join(project_dir, "reference", "refdata-gex-mm10-2020-A")\n",
    "\n",
    "tmas = ["TMA1_HE", "TMA2_HE", "TMA3_HE", "TMA4_HE"]\n",
    "\n",
    "os.makedirs(micro_out, exist_ok=True)\n",
    "os.makedirs(space_out, exist_ok=True)"
   ]
  },
  {
   "cell_type": "markdown",
   "metadata": {},
   "source": [
    "## 🖼️ Run MicroarrayProcessor per TMA"
   ]
  },
  {
   "cell_type": "code",
   "execution_count": null,
   "metadata": {},
   "outputs": [],
   "source": [
    "def run_microarray(tma_name):\n",
    "    image_path = os.path.join(image_dir, f"{tma_name}.jpg")\n",
    "    json_path = os.path.join(micro_out, f"{tma_name}.json")\n",
    "    if not os.path.exists(json_path):\n",
    "        micro_run.main(image_path, micro_out, tma_name, 4, 4, 0)\n",
    "    else:\n",
    "        print(f"✅ MicroarrayProcessor already run for {tma_name}")\n",
    "\n",
    "for tma in tmas:\n",
    "    run_microarray(tma)"
   ]
  },
  {
   "cell_type": "markdown",
   "metadata": {},
   "source": [
    "## 🧬 Run Space Ranger per TMA"
   ]
  },
  {
   "cell_type": "code",
   "execution_count": null,
   "metadata": {},
   "outputs": [],
   "source": [
    "def run_spaceranger(tma_name):\n",
    "    sample_id = tma_name.replace("_HE", "")\n",
    "    out_path = os.path.join(space_out, sample_id)\n",
    "    if os.path.exists(os.path.join(out_path, "outs")):\n",
    "        print(f"✅ {sample_id} already processed.")\n",
    "        return\n",
    "\n",
    "    image_path = os.path.join(image_dir, f"{tma_name}.jpg")\n",
    "    json_path = os.path.join(micro_out, f"{tma_name}.json")\n",
    "    cmd = f"""\n",
    "    spaceranger count \\\n",
    "      --id={sample_id} \\\n",
    "      --transcriptome={ref_path} \\\n",
    "      --fastqs={fastq_dir} \\\n",
    "      --sample={sample_id} \\\n",
    "      --image={image_path} \\\n",
    "      --loupe-alignment={json_path} \\\n",
    "      --slide=UNUSED \\\n",
    "      --area=A1 \\\n",
    "      --localcores=16 \\\n",
    "      --localmem=64\n",
    "    """\n",
    "    subprocess.run(cmd, shell=True, cwd=space_out)\n",
    "\n",
    "for tma in tmas:\n",
    "    run_spaceranger(tma)"
   ]
  },
  {
   "cell_type": "markdown",
   "metadata": {},
   "source": [
    "## 🔍 List core names from JSONs"
   ]
  },
  {
   "cell_type": "code",
   "execution_count": null,
   "metadata": {},
   "outputs": [],
   "source": [
    "def list_cores(json_path):\n",
    "    with open(json_path, 'r') as f:\n",
    "        data = json.load(f)\n",
    "    print(f"Cores in {os.path.basename(json_path)}:")\n",
    "    for feature in data['features']:\n",
    "        print(f"  - {feature['properties']['name']}")\n",
    "\n",
    "for tma in tmas:\n",
    "    list_cores(os.path.join(micro_out, f"{tma}.json"))"
   ]
  },
  {
   "cell_type": "markdown",
   "metadata": {},
   "source": [
    "## 📊 Load data and visualize endocrine gene expression"
   ]
  },
  {
   "cell_type": "code",
   "execution_count": null,
   "metadata": {},
   "outputs": [],
   "source": [
    "sample_id = "TMA1"\n",
    "adata = sc.read_10x_h5(os.path.join(space_out, sample_id, "outs", "filtered_feature_bc_matrix.h5"))\n",
    "adata.var_names_make_unique()\n",
    "endocrine_genes = ["Ins1", "Ins2", "Gcg", "Sst", "Ppy"]\n",
    "found_genes = [gene for gene in endocrine_genes if gene in adata.var_names]\n",
    "sc.pl.violin(adata, keys=found_genes, rotation=90, stripplot=False)"
   ]
  },
  {
   "cell_type": "markdown",
   "metadata": {},
   "source": [
    "## 📌 Spatial plot of gene expression"
   ]
  },
  {
   "cell_type": "code",
   "execution_count": null,
   "metadata": {},
   "outputs": [],
   "source": [
    "spatial_adata = sc.read_visium(os.path.join(space_out, sample_id, "outs"))\n",
    "sc.pl.spatial(spatial_adata, color=found_genes, cmap="magma", size=1.3)"
   ]
  },
  {
   "cell_type": "markdown",
   "metadata": {},
   "source": [
    "## 📉 PCA + UMAP of endocrine cell profiles"
   ]
  },
  {
   "cell_type": "code",
   "execution_count": null,
   "metadata": {},
   "outputs": [],
   "source": [
    "# Run dimensionality reduction\n",
    "sc.pp.normalize_total(adata, target_sum=1e4)\n",
    "sc.pp.log1p(adata)\n",
    "sc.pp.highly_variable_genes(adata, flavor="seurat", n_top_genes=2000)\n",
    "adata = adata[:, adata.var.highly_variable]\n",
    "sc.pp.scale(adata)\n",
    "sc.tl.pca(adata, svd_solver='arpack')\n",
    "sc.pl.pca(adata, color=found_genes)\n",
    "\n",
    "sc.pp.neighbors(adata)\n",
    "sc.tl.umap(adata)\n",
    "sc.pl.umap(adata, color=found_genes)"
   ]
  }
 ],
 "metadata": {
  "kernelspec": {
   "display_name": "Python 3",
   "language": "python",
   "name": "python3"
  },
  "language_info": {
   "name": "python",
   "version": "3.10"
  }
 },
 "nbformat": 4,
 "nbformat_minor": 2
}
